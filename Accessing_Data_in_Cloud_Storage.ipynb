{
  "nbformat": 4,
  "nbformat_minor": 0,
  "metadata": {
    "colab": {
      "name": "Accessing Data in Cloud Storage",
      "version": "0.3.2",
      "provenance": [],
      "collapsed_sections": [],
      "toc_visible": true,
      "include_colab_link": true
    },
    "kernelspec": {
      "display_name": "Python 3",
      "name": "python3"
    }
  },
  "cells": [
    {
      "cell_type": "markdown",
      "metadata": {
        "id": "view-in-github",
        "colab_type": "text"
      },
      "source": [
        "<a href=\"https://colab.research.google.com/github/jkingyens/codestory/blob/master/Accessing_Data_in_Cloud_Storage.ipynb\" target=\"_parent\"><img src=\"https://colab.research.google.com/assets/colab-badge.svg\" alt=\"Open In Colab\"/></a>"
      ]
    },
    {
      "metadata": {
        "id": "pq3b4Lh7V9bp",
        "colab_type": "text"
      },
      "cell_type": "markdown",
      "source": [
        "# Accessing Data in Cloud Storage\n",
        "\n",
        "This notebook guides you through a process to download data from Cloud Storage."
      ]
    },
    {
      "metadata": {
        "colab_type": "text",
        "id": "qTmLBxDxBAZL"
      },
      "cell_type": "markdown",
      "source": [
        "### Provide your credentials to the Colab runtime\n",
        "\n",
        "Colab will use the Google account that is associated with the notebook. If you do not see your picture associated with your Google account in the top right corner - switch to the correct account. This should be the same account that you used to register for this project.\n",
        "\n",
        "Click the cell below to execute the OAuth process for your Google account.  It will prompt you to select the account you want to authenticate. Copy and paste the access token back into the window."
      ]
    },
    {
      "metadata": {
        "colab_type": "code",
        "id": "FFSD5VCneJA_",
        "colab": {}
      },
      "cell_type": "code",
      "source": [
        "from google.colab import auth\n",
        "auth.authenticate_user()\n",
        "print('Authenticated')\n",
        "\n",
        "# if you do not see Authenticated please make sure you authenticated with the Google accounts\n",
        "# you registered for the hackathon OR ask for help."
      ],
      "execution_count": 0,
      "outputs": []
    },
    {
      "metadata": {
        "id": "NuoNL8MZcIw4",
        "colab_type": "code",
        "colab": {}
      },
      "cell_type": "code",
      "source": [
        "# Download the file.\n",
        "# Use the Cloud Storage path as noted in the Cloud console or perform\n",
        "# a list query via the Cloud SDK\n",
        "\n",
        "!gsutil cp gs://stardust-hackathon/ncaa-mbb/team_box.csv /tmp/team_box.csv"
      ],
      "execution_count": 0,
      "outputs": []
    },
    {
      "metadata": {
        "id": "7BTdEesxqGag",
        "colab_type": "code",
        "colab": {}
      },
      "cell_type": "code",
      "source": [
        "import pandas as pd\n",
        "\n",
        "df = pd.read_csv(\"/tmp/team_box.csv\")\n",
        "print(df.head(10))"
      ],
      "execution_count": 0,
      "outputs": []
    }
  ]
}